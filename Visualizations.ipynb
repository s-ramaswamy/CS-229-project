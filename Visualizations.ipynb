{
 "metadata": {
  "name": "",
  "signature": "sha256:6552b687cc30d9a90c293e65dc8ca1d4b1cc8ce6c0dff14c50b48bdebf6886a2"
 },
 "nbformat": 3,
 "nbformat_minor": 0,
 "worksheets": [
  {
   "cells": [
    {
     "cell_type": "markdown",
     "metadata": {},
     "source": [
      "Code for visualizations and graphs."
     ]
    },
    {
     "cell_type": "code",
     "collapsed": false,
     "input": [
      "# libraries and stuff to make plots look shiny\n",
      "%matplotlib inline\n",
      "from collections import defaultdict\n",
      "import json\n",
      "\n",
      "import numpy as np\n",
      "import scipy as sp\n",
      "import matplotlib.pyplot as plt\n",
      "import pandas as pd\n",
      "\n",
      "from matplotlib import rcParams\n",
      "import matplotlib.cm as cm\n",
      "import matplotlib as mpl\n",
      "\n",
      "#colorbrewer2 Dark2 qualitative color table\n",
      "dark2_colors = [(0.10588235294117647, 0.6196078431372549, 0.4666666666666667),\n",
      "                (0.8509803921568627, 0.37254901960784315, 0.00784313725490196),\n",
      "                (0.4588235294117647, 0.4392156862745098, 0.7019607843137254),\n",
      "                (0.9058823529411765, 0.1607843137254902, 0.5411764705882353),\n",
      "                (0.4, 0.6509803921568628, 0.11764705882352941),\n",
      "                (0.9019607843137255, 0.6705882352941176, 0.00784313725490196),\n",
      "                (0.6509803921568628, 0.4627450980392157, 0.11372549019607843)]\n",
      "\n",
      "rcParams['figure.figsize'] = (10, 6)\n",
      "rcParams['figure.dpi'] = 150\n",
      "rcParams['axes.color_cycle'] = dark2_colors\n",
      "rcParams['lines.linewidth'] = 2\n",
      "rcParams['axes.facecolor'] = 'white'\n",
      "rcParams['font.size'] = 14\n",
      "rcParams['patch.edgecolor'] = 'white'\n",
      "rcParams['patch.facecolor'] = dark2_colors[0]\n",
      "rcParams['font.family'] = 'StixGeneral'\n",
      "\n",
      "\n",
      "def remove_border(axes=None, top=False, right=False, left=True, bottom=True):\n",
      "    \"\"\"\n",
      "    Minimize chartjunk by stripping out unnecesasry plot borders and axis ticks\n",
      "    \n",
      "    The top/right/left/bottom keywords toggle whether the corresponding plot border is drawn\n",
      "    \"\"\"\n",
      "    ax = axes or plt.gca()\n",
      "    ax.spines['top'].set_visible(top)\n",
      "    ax.spines['right'].set_visible(right)\n",
      "    ax.spines['left'].set_visible(left)\n",
      "    ax.spines['bottom'].set_visible(bottom)\n",
      "    \n",
      "    #turn off all ticks\n",
      "    ax.yaxis.set_ticks_position('none')\n",
      "    ax.xaxis.set_ticks_position('none')\n",
      "    \n",
      "    #now re-enable visibles\n",
      "    if top:\n",
      "        ax.xaxis.tick_top()\n",
      "    if bottom:\n",
      "        ax.xaxis.tick_bottom()\n",
      "    if left:\n",
      "        ax.yaxis.tick_left()\n",
      "    if right:\n",
      "        ax.yaxis.tick_right()\n",
      "        \n",
      "pd.set_option('display.width', 500)\n",
      "pd.set_option('display.max_columns', 100)"
     ],
     "language": "python",
     "metadata": {},
     "outputs": [],
     "prompt_number": 1
    },
    {
     "cell_type": "code",
     "collapsed": false,
     "input": [
      "# loads the pickle files\n",
      "trainingreviews = pd.io.pickle.read_pickle('./trainingreviews.pkl')\n",
      "trainingbusiness = pd.io.pickle.read_pickle('./trainingbusiness.pkl')\n",
      "trainingusers = pd.io.pickle.read_pickle('./trainingusers.pkl')\n",
      "\n",
      "testreviews = pd.io.pickle.read_pickle('./testreviews.pkl')\n",
      "testbusiness = pd.io.pickle.read_pickle('./testbusiness.pkl')\n",
      "testusers = pd.io.pickle.read_pickle('./testusers.pkl')\n"
     ],
     "language": "python",
     "metadata": {},
     "outputs": [],
     "prompt_number": 2
    },
    {
     "cell_type": "code",
     "collapsed": false,
     "input": [
      "len(trainingreviews.index)\n",
      "trainingreviews.head(2)"
     ],
     "language": "python",
     "metadata": {},
     "outputs": [
      {
       "html": [
        "<div style=\"max-height:1000px;max-width:1500px;overflow:auto;\">\n",
        "<table border=\"1\" class=\"dataframe\">\n",
        "  <thead>\n",
        "    <tr style=\"text-align: right;\">\n",
        "      <th></th>\n",
        "      <th>business_id</th>\n",
        "      <th>rev_date</th>\n",
        "      <th>review_id</th>\n",
        "      <th>rev_stars</th>\n",
        "      <th>rev_text</th>\n",
        "      <th>rev_type</th>\n",
        "      <th>user_id</th>\n",
        "      <th>rev_votes</th>\n",
        "    </tr>\n",
        "  </thead>\n",
        "  <tbody>\n",
        "    <tr>\n",
        "      <th>0</th>\n",
        "      <td> 9yKzy9PApeiPPOUJEtnvkg</td>\n",
        "      <td> 2011-01-26</td>\n",
        "      <td> fWKvX83p0-ka4JS3dc6E5A</td>\n",
        "      <td> 5</td>\n",
        "      <td> My wife took me here on my birthday for breakf...</td>\n",
        "      <td> review</td>\n",
        "      <td> rLtl8ZkDX5vH5nAx9C3q5Q</td>\n",
        "      <td> {u'funny': 0, u'useful': 5, u'cool': 2}</td>\n",
        "    </tr>\n",
        "    <tr>\n",
        "      <th>1</th>\n",
        "      <td> ZRJwVLyzEJq1VAihDhYiow</td>\n",
        "      <td> 2011-07-27</td>\n",
        "      <td> IjZ33sJrzXqU-0X6U8NwyA</td>\n",
        "      <td> 5</td>\n",
        "      <td> I have no idea why some people give bad review...</td>\n",
        "      <td> review</td>\n",
        "      <td> 0a2KyEL0d3Yb1V6aivbIuQ</td>\n",
        "      <td> {u'funny': 0, u'useful': 0, u'cool': 0}</td>\n",
        "    </tr>\n",
        "  </tbody>\n",
        "</table>\n",
        "</div>"
       ],
       "metadata": {},
       "output_type": "pyout",
       "prompt_number": 23,
       "text": [
        "              business_id    rev_date               review_id  rev_stars                                           rev_text rev_type                 user_id                                rev_votes\n",
        "0  9yKzy9PApeiPPOUJEtnvkg  2011-01-26  fWKvX83p0-ka4JS3dc6E5A          5  My wife took me here on my birthday for breakf...   review  rLtl8ZkDX5vH5nAx9C3q5Q  {u'funny': 0, u'useful': 5, u'cool': 2}\n",
        "1  ZRJwVLyzEJq1VAihDhYiow  2011-07-27  IjZ33sJrzXqU-0X6U8NwyA          5  I have no idea why some people give bad review...   review  0a2KyEL0d3Yb1V6aivbIuQ  {u'funny': 0, u'useful': 0, u'cool': 0}"
       ]
      }
     ],
     "prompt_number": 23
    },
    {
     "cell_type": "code",
     "collapsed": false,
     "input": [
      "# performs the merge\n",
      "TrainMatrix = trainingreviews.merge(trainingbusiness,on=\"business_id\")\n",
      "TrainMatrix = TrainMatrix.merge(trainingusers,on=\"user_id\")\n",
      "TestMatrix = testreviews.merge(testbusiness,on=\"business_id\")\n",
      "TestMatrix = TestMatrix.merge(testusers,on=\"user_id\")\n",
      "print len(TrainMatrix.index)\n",
      "TrainMatrix.head(2)"
     ],
     "language": "python",
     "metadata": {},
     "outputs": [
      {
       "output_type": "stream",
       "stream": "stdout",
       "text": [
        "215878\n"
       ]
      },
      {
       "html": [
        "<div style=\"max-height:1000px;max-width:1500px;overflow:auto;\">\n",
        "<table border=\"1\" class=\"dataframe\">\n",
        "  <thead>\n",
        "    <tr style=\"text-align: right;\">\n",
        "      <th></th>\n",
        "      <th>business_id</th>\n",
        "      <th>rev_date</th>\n",
        "      <th>review_id</th>\n",
        "      <th>rev_stars</th>\n",
        "      <th>rev_text</th>\n",
        "      <th>rev_type</th>\n",
        "      <th>user_id</th>\n",
        "      <th>rev_votes</th>\n",
        "      <th>bus_categories</th>\n",
        "      <th>bus_city</th>\n",
        "      <th>bus_full_address</th>\n",
        "      <th>bus_latitude</th>\n",
        "      <th>bus_longitude</th>\n",
        "      <th>bus_name</th>\n",
        "      <th>bus_neighborhoods</th>\n",
        "      <th>bus_open</th>\n",
        "      <th>bus_review_count</th>\n",
        "      <th>bus_stars</th>\n",
        "      <th>bus_state</th>\n",
        "      <th>bus_type</th>\n",
        "      <th>user_average_stars</th>\n",
        "      <th>user_name</th>\n",
        "      <th>user_review_count</th>\n",
        "      <th>user_type</th>\n",
        "      <th>user_votes</th>\n",
        "      <th>gender</th>\n",
        "      <th>cool</th>\n",
        "      <th>useful</th>\n",
        "      <th>funny</th>\n",
        "    </tr>\n",
        "  </thead>\n",
        "  <tbody>\n",
        "    <tr>\n",
        "      <th>0</th>\n",
        "      <td> 9yKzy9PApeiPPOUJEtnvkg</td>\n",
        "      <td> 2011-01-26</td>\n",
        "      <td> fWKvX83p0-ka4JS3dc6E5A</td>\n",
        "      <td> 5</td>\n",
        "      <td> My wife took me here on my birthday for breakf...</td>\n",
        "      <td> review</td>\n",
        "      <td> rLtl8ZkDX5vH5nAx9C3q5Q</td>\n",
        "      <td> {u'funny': 0, u'useful': 5, u'cool': 2}</td>\n",
        "      <td>                 [Breakfast &amp; Brunch, Restaurants]</td>\n",
        "      <td> Phoenix</td>\n",
        "      <td> 6106 S 32nd St\\nPhoenix, AZ 85042</td>\n",
        "      <td> 33.390792</td>\n",
        "      <td>-112.012504</td>\n",
        "      <td>    Morning Glory Cafe</td>\n",
        "      <td> []</td>\n",
        "      <td> True</td>\n",
        "      <td> 116</td>\n",
        "      <td> 4.0</td>\n",
        "      <td> AZ</td>\n",
        "      <td> business</td>\n",
        "      <td> 3.72</td>\n",
        "      <td> Jason</td>\n",
        "      <td> 376</td>\n",
        "      <td> user</td>\n",
        "      <td> {u'funny': 331, u'useful': 1034, u'cool': 322}</td>\n",
        "      <td>-1</td>\n",
        "      <td> 322</td>\n",
        "      <td> 1034</td>\n",
        "      <td> 331</td>\n",
        "    </tr>\n",
        "    <tr>\n",
        "      <th>1</th>\n",
        "      <td> -yxfBYGB6SEqszmxJxd97A</td>\n",
        "      <td> 2010-09-07</td>\n",
        "      <td> MpapzEhHDQQrZGrWDnZg5Q</td>\n",
        "      <td> 4</td>\n",
        "      <td> My wife and I celebrated our 1 year anniversar...</td>\n",
        "      <td> review</td>\n",
        "      <td> rLtl8ZkDX5vH5nAx9C3q5Q</td>\n",
        "      <td> {u'funny': 1, u'useful': 2, u'cool': 2}</td>\n",
        "      <td> [Wine Bars, Bars, American (New), Nightlife, R...</td>\n",
        "      <td> Phoenix</td>\n",
        "      <td> 6106 S 32nd St\\nPhoenix, AZ 85042</td>\n",
        "      <td> 33.390792</td>\n",
        "      <td>-112.012504</td>\n",
        "      <td> Quiessence Restaurant</td>\n",
        "      <td> []</td>\n",
        "      <td> True</td>\n",
        "      <td> 109</td>\n",
        "      <td> 3.5</td>\n",
        "      <td> AZ</td>\n",
        "      <td> business</td>\n",
        "      <td> 3.72</td>\n",
        "      <td> Jason</td>\n",
        "      <td> 376</td>\n",
        "      <td> user</td>\n",
        "      <td> {u'funny': 331, u'useful': 1034, u'cool': 322}</td>\n",
        "      <td>-1</td>\n",
        "      <td> 322</td>\n",
        "      <td> 1034</td>\n",
        "      <td> 331</td>\n",
        "    </tr>\n",
        "  </tbody>\n",
        "</table>\n",
        "</div>"
       ],
       "metadata": {},
       "output_type": "pyout",
       "prompt_number": 24,
       "text": [
        "              business_id    rev_date               review_id  rev_stars                                           rev_text rev_type                 user_id                                rev_votes                                     bus_categories bus_city                   bus_full_address  bus_latitude  bus_longitude               bus_name bus_neighborhoods bus_open  bus_review_count  bus_stars bus_state  bus_type  user_average_stars user_name  user_review_count user_type  \\\n",
        "0  9yKzy9PApeiPPOUJEtnvkg  2011-01-26  fWKvX83p0-ka4JS3dc6E5A          5  My wife took me here on my birthday for breakf...   review  rLtl8ZkDX5vH5nAx9C3q5Q  {u'funny': 0, u'useful': 5, u'cool': 2}                  [Breakfast & Brunch, Restaurants]  Phoenix  6106 S 32nd St\\nPhoenix, AZ 85042     33.390792    -112.012504     Morning Glory Cafe                []     True               116        4.0        AZ  business                3.72     Jason                376      user   \n",
        "1  -yxfBYGB6SEqszmxJxd97A  2010-09-07  MpapzEhHDQQrZGrWDnZg5Q          4  My wife and I celebrated our 1 year anniversar...   review  rLtl8ZkDX5vH5nAx9C3q5Q  {u'funny': 1, u'useful': 2, u'cool': 2}  [Wine Bars, Bars, American (New), Nightlife, R...  Phoenix  6106 S 32nd St\\nPhoenix, AZ 85042     33.390792    -112.012504  Quiessence Restaurant                []     True               109        3.5        AZ  business                3.72     Jason                376      user   \n",
        "\n",
        "                                       user_votes  gender  cool  useful  funny  \n",
        "0  {u'funny': 331, u'useful': 1034, u'cool': 322}      -1   322    1034    331  \n",
        "1  {u'funny': 331, u'useful': 1034, u'cool': 322}      -1   322    1034    331  "
       ]
      }
     ],
     "prompt_number": 24
    },
    {
     "cell_type": "code",
     "collapsed": false,
     "input": [
      "urc=TrainMatrix.groupby('user_id').review_id.count()\n",
      "ax=urc.hist(bins=50, log=True)\n",
      "remove_border(ax)\n",
      "plt.xlabel(\"Reviews per user\")\n",
      "plt.grid(False)\n",
      "plt.grid(axis = 'y', color ='white', linestyle='-')\n",
      "plt.title(\"Review Count per User\");"
     ],
     "language": "python",
     "metadata": {},
     "outputs": [
      {
       "metadata": {},
       "output_type": "display_data",
       "png": "[encoded data removed]",
       "text": [
        "<matplotlib.figure.Figure at 0x12e4b9f50>"
       ]
      }
     ],
     "prompt_number": 16
    },
    {
     "cell_type": "code",
     "collapsed": false,
     "input": [
      "urc=TrainMatrix.groupby('business_id').review_id.count()\n",
      "ax=urc.hist(bins=50, log=True)\n",
      "remove_border(ax)\n",
      "plt.xlabel(\"Reviews per user\")\n",
      "plt.grid(False)\n",
      "plt.grid(axis = 'y', color ='white', linestyle='-')\n",
      "plt.title(\"Review Count per User\");"
     ],
     "language": "python",
     "metadata": {},
     "outputs": [
      {
       "metadata": {},
       "output_type": "display_data",
       "png": "[encoded data removed]",
       "text": [
        "<matplotlib.figure.Figure at 0x10fb5acd0>"
       ]
      }
     ],
     "prompt_number": 17
    },
    {
     "cell_type": "code",
     "collapsed": false,
     "input": [
      "#your code here\n",
      "print \"Mean stars over all reviews:\",TrainMatrix.rev_stars.mean()\n",
      "stars=TrainMatrix.rev_stars\n",
      "ax=stars.hist(bins=5)\n",
      "remove_border(ax)\n",
      "plt.xlabel(\"Star rating\")\n",
      "plt.grid(False)\n",
      "plt.grid(axis = 'y', color ='white', linestyle='-')\n",
      "plt.title(\"Star ratings over all reviews\");"
     ],
     "language": "python",
     "metadata": {},
     "outputs": [
      {
       "output_type": "stream",
       "stream": "stdout",
       "text": [
        " Mean stars over all reviews: 3.77352022902\n"
       ]
      },
      {
       "metadata": {},
       "output_type": "display_data",
       "png": "[encoded data removed]",
       "text": [
        "<matplotlib.figure.Figure at 0x10ff4c710>"
       ]
      }
     ],
     "prompt_number": 21
    },
    {
     "cell_type": "code",
     "collapsed": false,
     "input": [],
     "language": "python",
     "metadata": {},
     "outputs": []
    }
   ],
   "metadata": {}
  }
 ]
}