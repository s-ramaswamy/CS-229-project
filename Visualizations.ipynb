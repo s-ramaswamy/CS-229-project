{
 "metadata": {
  "name": "",
  "signature": "sha256:e5cc5eb4491a2b8b8f0605540804e794e998e4352c77c442b5fd010aa42844cc"
 },
 "nbformat": 3,
 "nbformat_minor": 0,
 "worksheets": [
  {
   "cells": [
    {
     "cell_type": "markdown",
     "metadata": {},
     "source": [
      "Code for visualizations and playing around"
     ]
    },
    {
     "cell_type": "code",
     "collapsed": false,
     "input": [
      "# libraries and stuff to make plots look shiny\n",
      "%matplotlib inline\n",
      "from collections import defaultdict\n",
      "import json\n",
      "\n",
      "import numpy as np\n",
      "import scipy as sp\n",
      "import matplotlib.pyplot as plt\n",
      "import pandas as pd\n",
      "\n",
      "from matplotlib import rcParams\n",
      "import matplotlib.cm as cm\n",
      "import matplotlib as mpl\n",
      "\n",
      "#colorbrewer2 Dark2 qualitative color table\n",
      "dark2_colors = [(0.10588235294117647, 0.6196078431372549, 0.4666666666666667),\n",
      "                (0.8509803921568627, 0.37254901960784315, 0.00784313725490196),\n",
      "                (0.4588235294117647, 0.4392156862745098, 0.7019607843137254),\n",
      "                (0.9058823529411765, 0.1607843137254902, 0.5411764705882353),\n",
      "                (0.4, 0.6509803921568628, 0.11764705882352941),\n",
      "                (0.9019607843137255, 0.6705882352941176, 0.00784313725490196),\n",
      "                (0.6509803921568628, 0.4627450980392157, 0.11372549019607843)]\n",
      "\n",
      "rcParams['figure.figsize'] = (10, 6)\n",
      "rcParams['figure.dpi'] = 150\n",
      "rcParams['axes.color_cycle'] = dark2_colors\n",
      "rcParams['lines.linewidth'] = 2\n",
      "rcParams['axes.facecolor'] = 'white'\n",
      "rcParams['font.size'] = 14\n",
      "rcParams['patch.edgecolor'] = 'white'\n",
      "rcParams['patch.facecolor'] = dark2_colors[0]\n",
      "rcParams['font.family'] = 'StixGeneral'\n",
      "\n",
      "\n",
      "def remove_border(axes=None, top=False, right=False, left=True, bottom=True):\n",
      "    \"\"\"\n",
      "    Minimize chartjunk by stripping out unnecesasry plot borders and axis ticks\n",
      "    \n",
      "    The top/right/left/bottom keywords toggle whether the corresponding plot border is drawn\n",
      "    \"\"\"\n",
      "    ax = axes or plt.gca()\n",
      "    ax.spines['top'].set_visible(top)\n",
      "    ax.spines['right'].set_visible(right)\n",
      "    ax.spines['left'].set_visible(left)\n",
      "    ax.spines['bottom'].set_visible(bottom)\n",
      "    \n",
      "    #turn off all ticks\n",
      "    ax.yaxis.set_ticks_position('none')\n",
      "    ax.xaxis.set_ticks_position('none')\n",
      "    \n",
      "    #now re-enable visibles\n",
      "    if top:\n",
      "        ax.xaxis.tick_top()\n",
      "    if bottom:\n",
      "        ax.xaxis.tick_bottom()\n",
      "    if left:\n",
      "        ax.yaxis.tick_left()\n",
      "    if right:\n",
      "        ax.yaxis.tick_right()\n",
      "        \n",
      "pd.set_option('display.width', 500)\n",
      "pd.set_option('display.max_columns', 100)"
     ],
     "language": "python",
     "metadata": {},
     "outputs": [],
     "prompt_number": 1
    },
    {
     "cell_type": "code",
     "collapsed": false,
     "input": [
      "# loads the pickle files\n",
      "trainingreviews = pd.io.pickle.read_pickle('./trainingreviews.pkl')\n",
      "trainingbusiness = pd.io.pickle.read_pickle('./trainingbusiness.pkl')\n",
      "trainingusers = pd.io.pickle.read_pickle('./trainingusers.pkl')\n",
      "\n",
      "testreviews = pd.io.pickle.read_pickle('./testreviews.pkl')\n",
      "testbusiness = pd.io.pickle.read_pickle('./testbusiness.pkl')\n",
      "testusers = pd.io.pickle.read_pickle('./testusers.pkl')\n"
     ],
     "language": "python",
     "metadata": {},
     "outputs": [],
     "prompt_number": 2
    },
    {
     "cell_type": "code",
     "collapsed": false,
     "input": [
      "print 'Total number of reviews in training: ' + str(len(trainingreviews.index)) \n",
      "print 'Total number of reviews in test: ' + str(len(testreviews.index))\n",
      "trainingusers.head(2)"
     ],
     "language": "python",
     "metadata": {},
     "outputs": [
      {
       "output_type": "stream",
       "stream": "stdout",
       "text": [
        "Total number of reviews in training: 229907\n",
        "Total number of reviews in test: 36404\n"
       ]
      },
      {
       "html": [
        "<div style=\"max-height:1000px;max-width:1500px;overflow:auto;\">\n",
        "<table border=\"1\" class=\"dataframe\">\n",
        "  <thead>\n",
        "    <tr style=\"text-align: right;\">\n",
        "      <th></th>\n",
        "      <th>user_average_stars</th>\n",
        "      <th>user_name</th>\n",
        "      <th>user_review_count</th>\n",
        "      <th>user_type</th>\n",
        "      <th>user_id</th>\n",
        "      <th>user_votes</th>\n",
        "      <th>gender</th>\n",
        "      <th>cool</th>\n",
        "      <th>useful</th>\n",
        "      <th>funny</th>\n",
        "    </tr>\n",
        "  </thead>\n",
        "  <tbody>\n",
        "    <tr>\n",
        "      <th>0</th>\n",
        "      <td> 5</td>\n",
        "      <td>   Jim</td>\n",
        "      <td> 6</td>\n",
        "      <td> user</td>\n",
        "      <td> CR2y7yEm4X035ZMzrTtN9Q</td>\n",
        "      <td> {u'funny': 0, u'useful': 7, u'cool': 0}</td>\n",
        "      <td>-1</td>\n",
        "      <td> 0</td>\n",
        "      <td> 7</td>\n",
        "      <td> 0</td>\n",
        "    </tr>\n",
        "    <tr>\n",
        "      <th>1</th>\n",
        "      <td> 1</td>\n",
        "      <td> Kelle</td>\n",
        "      <td> 2</td>\n",
        "      <td> user</td>\n",
        "      <td> _9GXoHhdxc30ujPaQwh6Ew</td>\n",
        "      <td> {u'funny': 0, u'useful': 1, u'cool': 0}</td>\n",
        "      <td> 1</td>\n",
        "      <td> 0</td>\n",
        "      <td> 1</td>\n",
        "      <td> 0</td>\n",
        "    </tr>\n",
        "  </tbody>\n",
        "</table>\n",
        "</div>"
       ],
       "metadata": {},
       "output_type": "pyout",
       "prompt_number": 3,
       "text": [
        "   user_average_stars user_name  user_review_count user_type                 user_id                               user_votes  gender  cool  useful  funny\n",
        "0                   5       Jim                  6      user  CR2y7yEm4X035ZMzrTtN9Q  {u'funny': 0, u'useful': 7, u'cool': 0}      -1     0       7      0\n",
        "1                   1     Kelle                  2      user  _9GXoHhdxc30ujPaQwh6Ew  {u'funny': 0, u'useful': 1, u'cool': 0}       1     0       1      0"
       ]
      }
     ],
     "prompt_number": 3
    },
    {
     "cell_type": "code",
     "collapsed": false,
     "input": [
      "business = trainingbusiness.append(testbusiness)\n",
      "business.tail(2)"
     ],
     "language": "python",
     "metadata": {},
     "outputs": [
      {
       "html": [
        "<div style=\"max-height:1000px;max-width:1500px;overflow:auto;\">\n",
        "<table border=\"1\" class=\"dataframe\">\n",
        "  <thead>\n",
        "    <tr style=\"text-align: right;\">\n",
        "      <th></th>\n",
        "      <th>bus_categories</th>\n",
        "      <th>bus_city</th>\n",
        "      <th>bus_full_address</th>\n",
        "      <th>bus_latitude</th>\n",
        "      <th>bus_longitude</th>\n",
        "      <th>bus_name</th>\n",
        "      <th>bus_neighborhoods</th>\n",
        "      <th>bus_open</th>\n",
        "      <th>bus_review_count</th>\n",
        "      <th>bus_stars</th>\n",
        "      <th>bus_state</th>\n",
        "      <th>bus_type</th>\n",
        "      <th>business_id</th>\n",
        "    </tr>\n",
        "  </thead>\n",
        "  <tbody>\n",
        "    <tr>\n",
        "      <th>2795</th>\n",
        "      <td> [Banks &amp; Credit Unions, Financial Services]</td>\n",
        "      <td> Chandler</td>\n",
        "      <td>  1949 W Ray Rd Ste 34\\nChandler, AZ 85224</td>\n",
        "      <td> 33.319395</td>\n",
        "      <td>-111.874965</td>\n",
        "      <td> Desert Schools Federal Credit Union</td>\n",
        "      <td> []</td>\n",
        "      <td> True</td>\n",
        "      <td>  3</td>\n",
        "      <td>NaN</td>\n",
        "      <td> AZ</td>\n",
        "      <td> business</td>\n",
        "      <td> IpiCTbW1u04ytps6tFF4QQ</td>\n",
        "    </tr>\n",
        "    <tr>\n",
        "      <th>2796</th>\n",
        "      <td>                      [Mexican, Restaurants]</td>\n",
        "      <td>  Phoenix</td>\n",
        "      <td> 3400 E Sky Harbor Blvd\\nPhoenix, AZ 85034</td>\n",
        "      <td> 33.436527</td>\n",
        "      <td>-111.998996</td>\n",
        "      <td>                         Barrio Cafe</td>\n",
        "      <td> []</td>\n",
        "      <td> True</td>\n",
        "      <td> 73</td>\n",
        "      <td>NaN</td>\n",
        "      <td> AZ</td>\n",
        "      <td> business</td>\n",
        "      <td> LbcDWyqGgQdlwWfGO-whMw</td>\n",
        "    </tr>\n",
        "  </tbody>\n",
        "</table>\n",
        "</div>"
       ],
       "metadata": {},
       "output_type": "pyout",
       "prompt_number": 4,
       "text": [
        "                                   bus_categories  bus_city                           bus_full_address  bus_latitude  bus_longitude                             bus_name bus_neighborhoods bus_open  bus_review_count  bus_stars bus_state  bus_type             business_id\n",
        "2795  [Banks & Credit Unions, Financial Services]  Chandler   1949 W Ray Rd Ste 34\\nChandler, AZ 85224     33.319395    -111.874965  Desert Schools Federal Credit Union                []     True                 3        NaN        AZ  business  IpiCTbW1u04ytps6tFF4QQ\n",
        "2796                       [Mexican, Restaurants]   Phoenix  3400 E Sky Harbor Blvd\\nPhoenix, AZ 85034     33.436527    -111.998996                          Barrio Cafe                []     True                73        NaN        AZ  business  LbcDWyqGgQdlwWfGO-whMw"
       ]
      }
     ],
     "prompt_number": 4
    },
    {
     "cell_type": "code",
     "collapsed": false,
     "input": [
      "# performs the merge\n",
      "business = trainingbusiness.append(testbusiness)\n",
      "users = trainingusers.append(testusers)\n",
      "\n",
      "TrainMatrix = trainingreviews.merge(business,on=\"business_id\")\n",
      "TrainMatrix = TrainMatrix.merge(users,on=\"user_id\", how='left')\n",
      "TestMatrix = testreviews.merge(business,on=\"business_id\", how='left')\n",
      "TestMatrix = TestMatrix.merge(users,on=\"user_id\", how='left')\n",
      "print 'Training DF length: ' + str(len(TrainMatrix.index))\n",
      "print 'Test DF length: ' + str(len(TestMatrix.index))\n",
      "TrainMatrix.tail(2)"
     ],
     "language": "python",
     "metadata": {},
     "outputs": [
      {
       "output_type": "stream",
       "stream": "stdout",
       "text": [
        "Training DF length: 229907\n",
        "Test DF length: 36404\n"
       ]
      },
      {
       "html": [
        "<div style=\"max-height:1000px;max-width:1500px;overflow:auto;\">\n",
        "<table border=\"1\" class=\"dataframe\">\n",
        "  <thead>\n",
        "    <tr style=\"text-align: right;\">\n",
        "      <th></th>\n",
        "      <th>business_id</th>\n",
        "      <th>rev_date</th>\n",
        "      <th>review_id</th>\n",
        "      <th>rev_stars</th>\n",
        "      <th>rev_text</th>\n",
        "      <th>rev_type</th>\n",
        "      <th>user_id</th>\n",
        "      <th>rev_votes</th>\n",
        "      <th>bus_categories</th>\n",
        "      <th>bus_city</th>\n",
        "      <th>bus_full_address</th>\n",
        "      <th>bus_latitude</th>\n",
        "      <th>bus_longitude</th>\n",
        "      <th>bus_name</th>\n",
        "      <th>bus_neighborhoods</th>\n",
        "      <th>bus_open</th>\n",
        "      <th>bus_review_count</th>\n",
        "      <th>bus_stars</th>\n",
        "      <th>bus_state</th>\n",
        "      <th>bus_type</th>\n",
        "      <th>cool</th>\n",
        "      <th>funny</th>\n",
        "      <th>gender</th>\n",
        "      <th>useful</th>\n",
        "      <th>user_average_stars</th>\n",
        "      <th>user_name</th>\n",
        "      <th>user_review_count</th>\n",
        "      <th>user_type</th>\n",
        "      <th>user_votes</th>\n",
        "    </tr>\n",
        "  </thead>\n",
        "  <tbody>\n",
        "    <tr>\n",
        "      <th>229905</th>\n",
        "      <td> x59g-quKyKqh7VDAWhV-vQ</td>\n",
        "      <td> 2008-05-26</td>\n",
        "      <td> T39VKXR2UWzDMniI2dpl3A</td>\n",
        "      <td> 5</td>\n",
        "      <td> Home of Randi Rhodes and Mike Molloy progressi...</td>\n",
        "      <td> review</td>\n",
        "      <td> l1eXX3p2WL_02FWw5TXhsA</td>\n",
        "      <td> {u'funny': 1, u'useful': 3, u'cool': 2}</td>\n",
        "      <td>        [Mass Media, Radio Stations]</td>\n",
        "      <td>    Phoenix</td>\n",
        "      <td>                               Phoenix, AZ 85034</td>\n",
        "      <td> 33.438279</td>\n",
        "      <td>-112.017829</td>\n",
        "      <td> Nova M Radio Network</td>\n",
        "      <td> []</td>\n",
        "      <td> False</td>\n",
        "      <td> 3</td>\n",
        "      <td> 4.5</td>\n",
        "      <td> AZ</td>\n",
        "      <td> business</td>\n",
        "      <td> 2780</td>\n",
        "      <td> 1687</td>\n",
        "      <td>-1</td>\n",
        "      <td> 3393</td>\n",
        "      <td> 3.81</td>\n",
        "      <td> David</td>\n",
        "      <td> 805</td>\n",
        "      <td> user</td>\n",
        "      <td> {u'funny': 1687, u'useful': 3393, u'cool': 2780}</td>\n",
        "    </tr>\n",
        "    <tr>\n",
        "      <th>229906</th>\n",
        "      <td> qsZpOYEttt8spp4n7YWZyQ</td>\n",
        "      <td> 2012-08-21</td>\n",
        "      <td> Q-W-NxtCTI3pnKcELJXI8w</td>\n",
        "      <td> 5</td>\n",
        "      <td> This shop was recommended by Ric's Auto Body, ...</td>\n",
        "      <td> review</td>\n",
        "      <td> Lexfy0u3R9y9qrJo9qOywg</td>\n",
        "      <td> {u'funny': 0, u'useful': 0, u'cool': 0}</td>\n",
        "      <td> [Automotive, Auto Parts &amp; Supplies]</td>\n",
        "      <td> Scottsdale</td>\n",
        "      <td> 8260 E Raintree Dr\\nSte 2\\nScottsdale, AZ 85260</td>\n",
        "      <td> 33.619639</td>\n",
        "      <td>-111.902600</td>\n",
        "      <td>    Unique Upholstery</td>\n",
        "      <td> []</td>\n",
        "      <td>  True</td>\n",
        "      <td> 3</td>\n",
        "      <td> 4.5</td>\n",
        "      <td> AZ</td>\n",
        "      <td> business</td>\n",
        "      <td>    1</td>\n",
        "      <td>    0</td>\n",
        "      <td>-1</td>\n",
        "      <td>    4</td>\n",
        "      <td> 4.20</td>\n",
        "      <td>   Ian</td>\n",
        "      <td>   5</td>\n",
        "      <td> user</td>\n",
        "      <td>          {u'funny': 0, u'useful': 4, u'cool': 1}</td>\n",
        "    </tr>\n",
        "  </tbody>\n",
        "</table>\n",
        "</div>"
       ],
       "metadata": {},
       "output_type": "pyout",
       "prompt_number": 31,
       "text": [
        "                   business_id    rev_date               review_id  rev_stars                                           rev_text rev_type                 user_id                                rev_votes                       bus_categories    bus_city                                 bus_full_address  bus_latitude  bus_longitude              bus_name bus_neighborhoods bus_open  bus_review_count  bus_stars bus_state  bus_type  cool  funny  gender  useful  user_average_stars user_name  \\\n",
        "229905  x59g-quKyKqh7VDAWhV-vQ  2008-05-26  T39VKXR2UWzDMniI2dpl3A          5  Home of Randi Rhodes and Mike Molloy progressi...   review  l1eXX3p2WL_02FWw5TXhsA  {u'funny': 1, u'useful': 3, u'cool': 2}         [Mass Media, Radio Stations]     Phoenix                                Phoenix, AZ 85034     33.438279    -112.017829  Nova M Radio Network                []    False                 3        4.5        AZ  business  2780   1687      -1    3393                3.81     David   \n",
        "229906  qsZpOYEttt8spp4n7YWZyQ  2012-08-21  Q-W-NxtCTI3pnKcELJXI8w          5  This shop was recommended by Ric's Auto Body, ...   review  Lexfy0u3R9y9qrJo9qOywg  {u'funny': 0, u'useful': 0, u'cool': 0}  [Automotive, Auto Parts & Supplies]  Scottsdale  8260 E Raintree Dr\\nSte 2\\nScottsdale, AZ 85260     33.619639    -111.902600     Unique Upholstery                []     True                 3        4.5        AZ  business     1      0      -1       4                4.20       Ian   \n",
        "\n",
        "        user_review_count user_type                                        user_votes  \n",
        "229905                805      user  {u'funny': 1687, u'useful': 3393, u'cool': 2780}  \n",
        "229906                  5      user           {u'funny': 0, u'useful': 4, u'cool': 1}  "
       ]
      }
     ],
     "prompt_number": 31
    },
    {
     "cell_type": "code",
     "collapsed": false,
     "input": [
      "urc=TrainMatrix.groupby('user_id').review_id.count()\n",
      "ax=urc.hist(bins=50, log=True)\n",
      "remove_border(ax)\n",
      "plt.xlabel(\"Reviews per user\")\n",
      "plt.grid(False)\n",
      "plt.grid(axis = 'y', color ='white', linestyle='-')\n",
      "plt.title(\"Review Count per User\");"
     ],
     "language": "python",
     "metadata": {},
     "outputs": [
      {
       "metadata": {},
       "output_type": "display_data",
       "png": "[encoded data removed]",
       "text": [
        "<matplotlib.figure.Figure at 0x13a050690>"
       ]
      }
     ],
     "prompt_number": 6
    },
    {
     "cell_type": "code",
     "collapsed": false,
     "input": [
      "urc=TrainMatrix.groupby('business_id').review_id.count()\n",
      "ax=urc.hist(bins=50, log=True)\n",
      "remove_border(ax)\n",
      "plt.xlabel(\"Reviews per user\")\n",
      "plt.grid(False)\n",
      "plt.grid(axis = 'y', color ='white', linestyle='-')\n",
      "plt.title(\"Review Count per User\");"
     ],
     "language": "python",
     "metadata": {},
     "outputs": [
      {
       "metadata": {},
       "output_type": "display_data",
       "png": "[encoded data removed]",
       "text": [
        "<matplotlib.figure.Figure at 0x13a050050>"
       ]
      }
     ],
     "prompt_number": 7
    },
    {
     "cell_type": "code",
     "collapsed": false,
     "input": [
      "print \"Mean stars over all reviews:\",TrainMatrix.rev_stars.mean()\n",
      "stars=TrainMatrix.rev_stars\n",
      "ax=stars.hist(bins=5)\n",
      "remove_border(ax)\n",
      "plt.xlabel(\"Star rating\")\n",
      "plt.grid(False)\n",
      "plt.grid(axis = 'y', color ='white', linestyle='-')\n",
      "plt.title(\"Star ratings over all reviews\");"
     ],
     "language": "python",
     "metadata": {},
     "outputs": [
      {
       "output_type": "stream",
       "stream": "stdout",
       "text": [
        "Mean stars over all reviews: 3.76672306628\n"
       ]
      },
      {
       "metadata": {},
       "output_type": "display_data",
       "png": "[encoded data removed]",
       "text": [
        "<matplotlib.figure.Figure at 0x10f8f7650>"
       ]
      }
     ],
     "prompt_number": 8
    },
    {
     "cell_type": "code",
     "collapsed": false,
     "input": [
      "# testing out the code bits I worked on earlier-\n",
      "df_index = TestMatrix.index.values.tolist()\n",
      "business_index = pd.isnull(TestMatrix['bus_stars']).tolist()\n",
      "business_index = [i for i, elem in enumerate(business_index) if elem]\n",
      "user_index = pd.isnull(TestMatrix['user_average_stars']).tolist()\n",
      "user_index = [i for i, elem in enumerate(user_index) if elem]\n",
      "\n",
      "# finds the indices depending on what is missing\n",
      "missing_both_index = list(set(business_index) & set(user_index))\n",
      "missing_user_index = list(set(user_index) - set(business_index))\n",
      "missing_business_index = list(set(business_index) - set(user_index))\n",
      "missing_none = list(set(df_index) - set(business_index) - set(user_index))"
     ],
     "language": "python",
     "metadata": {},
     "outputs": [],
     "prompt_number": 68
    },
    {
     "cell_type": "code",
     "collapsed": false,
     "input": [
      "missing_both = TestMatrix.iloc[missing_both_index, :]\n",
      "missing_both.head(2)"
     ],
     "language": "python",
     "metadata": {},
     "outputs": [
      {
       "html": [
        "<div style=\"max-height:1000px;max-width:1500px;overflow:auto;\">\n",
        "<table border=\"1\" class=\"dataframe\">\n",
        "  <thead>\n",
        "    <tr style=\"text-align: right;\">\n",
        "      <th></th>\n",
        "      <th>business_id</th>\n",
        "      <th>review_id</th>\n",
        "      <th>rev_type</th>\n",
        "      <th>user_id</th>\n",
        "      <th>bus_categories</th>\n",
        "      <th>bus_city</th>\n",
        "      <th>bus_full_address</th>\n",
        "      <th>bus_latitude</th>\n",
        "      <th>bus_longitude</th>\n",
        "      <th>bus_name</th>\n",
        "      <th>bus_neighborhoods</th>\n",
        "      <th>bus_open</th>\n",
        "      <th>bus_review_count</th>\n",
        "      <th>bus_stars</th>\n",
        "      <th>bus_state</th>\n",
        "      <th>bus_type</th>\n",
        "      <th>cool</th>\n",
        "      <th>funny</th>\n",
        "      <th>gender</th>\n",
        "      <th>useful</th>\n",
        "      <th>user_average_stars</th>\n",
        "      <th>user_name</th>\n",
        "      <th>user_review_count</th>\n",
        "      <th>user_type</th>\n",
        "      <th>user_votes</th>\n",
        "    </tr>\n",
        "  </thead>\n",
        "  <tbody>\n",
        "    <tr>\n",
        "      <th>32768</th>\n",
        "      <td> _lbISlJGZjJV3CuvQTcCHw</td>\n",
        "      <td> xbeFDiuHee-N7fWK-Ftjxw</td>\n",
        "      <td> review</td>\n",
        "      <td> awkpeWY1q6y12ZM_BUkNhA</td>\n",
        "      <td>                  [Beauty &amp; Spas, Nail Salons]</td>\n",
        "      <td>  Peoria</td>\n",
        "      <td> 8422 W Thunderbird Rd Ste 105\\nPeoria, AZ 85381</td>\n",
        "      <td> 33.610038</td>\n",
        "      <td>-112.240285</td>\n",
        "      <td>           Paulene's Nails</td>\n",
        "      <td> []</td>\n",
        "      <td> True</td>\n",
        "      <td> 4</td>\n",
        "      <td>NaN</td>\n",
        "      <td> AZ</td>\n",
        "      <td> business</td>\n",
        "      <td>NaN</td>\n",
        "      <td>NaN</td>\n",
        "      <td>NaN</td>\n",
        "      <td>NaN</td>\n",
        "      <td>NaN</td>\n",
        "      <td> Shannon</td>\n",
        "      <td>  3</td>\n",
        "      <td> user</td>\n",
        "      <td> NaN</td>\n",
        "    </tr>\n",
        "    <tr>\n",
        "      <th>28642</th>\n",
        "      <td> 06EgUvLQBTXJrLKyv41mxA</td>\n",
        "      <td> MIUPsdURVXIH-bnBo9eRpw</td>\n",
        "      <td> review</td>\n",
        "      <td> ROmwELi7QEYONwbel1Fy1A</td>\n",
        "      <td> [Midwives, Medical Centers, Health &amp; Medical]</td>\n",
        "      <td> Phoenix</td>\n",
        "      <td>          215 E Lexington Ave\\nPhoenix, AZ 85012</td>\n",
        "      <td> 33.485846</td>\n",
        "      <td>-112.070388</td>\n",
        "      <td> Babymoon Inn Birth Center</td>\n",
        "      <td> []</td>\n",
        "      <td> True</td>\n",
        "      <td> 6</td>\n",
        "      <td>NaN</td>\n",
        "      <td> AZ</td>\n",
        "      <td> business</td>\n",
        "      <td>NaN</td>\n",
        "      <td>NaN</td>\n",
        "      <td>NaN</td>\n",
        "      <td>NaN</td>\n",
        "      <td>NaN</td>\n",
        "      <td>    Erin</td>\n",
        "      <td> 18</td>\n",
        "      <td> user</td>\n",
        "      <td> NaN</td>\n",
        "    </tr>\n",
        "  </tbody>\n",
        "</table>\n",
        "</div>"
       ],
       "metadata": {},
       "output_type": "pyout",
       "prompt_number": 69,
       "text": [
        "                  business_id               review_id rev_type                 user_id                                 bus_categories bus_city                                 bus_full_address  bus_latitude  bus_longitude                   bus_name bus_neighborhoods bus_open  bus_review_count  bus_stars bus_state  bus_type  cool  funny  gender  useful  user_average_stars user_name  user_review_count user_type user_votes\n",
        "32768  _lbISlJGZjJV3CuvQTcCHw  xbeFDiuHee-N7fWK-Ftjxw   review  awkpeWY1q6y12ZM_BUkNhA                   [Beauty & Spas, Nail Salons]   Peoria  8422 W Thunderbird Rd Ste 105\\nPeoria, AZ 85381     33.610038    -112.240285            Paulene's Nails                []     True                 4        NaN        AZ  business   NaN    NaN     NaN     NaN                 NaN   Shannon                  3      user        NaN\n",
        "28642  06EgUvLQBTXJrLKyv41mxA  MIUPsdURVXIH-bnBo9eRpw   review  ROmwELi7QEYONwbel1Fy1A  [Midwives, Medical Centers, Health & Medical]  Phoenix           215 E Lexington Ave\\nPhoenix, AZ 85012     33.485846    -112.070388  Babymoon Inn Birth Center                []     True                 6        NaN        AZ  business   NaN    NaN     NaN     NaN                 NaN      Erin                 18      user        NaN"
       ]
      }
     ],
     "prompt_number": 69
    },
    {
     "cell_type": "code",
     "collapsed": false,
     "input": [
      "# visualize the percentage of the missing data\n",
      "# This is the greatest bar chart you've ever seen in your life\n",
      "percentages = np.array([len(missing_none), len(missing_business_index), \n",
      "                        len(missing_user_index), len(missing_both_index)])/float(len(df_index)) * 100\n",
      "width = 0.4\n",
      "ind = np.array(range(1,5))\n",
      "print ind\n",
      "labels = ['Has all','Missing businesses','Missing users', 'Missing both']\n",
      "\n",
      "barlist = plt.bar(ind, percentages)\n",
      "plt.grid(axis='y', color='white', linestyle='-', lw=1)\n",
      "plt.yticks([10,20,30,40])\n",
      "plt.ylabel('Percentage')\n",
      "plt.title('Missing Data Breakdown')\n",
      "\n",
      "fmt = plt.ScalarFormatter(useOffset=False)\n",
      "plt.gca().xaxis.set_major_formatter(fmt)\n",
      "plt.xlim(0.8, 5.2)\n",
      "plt.xticks(ind+width, labels )\n",
      "remove_border()\n",
      "\n",
      "for x, y in zip(ind, percentages):\n",
      "    plt.annotate((\"%.2f\" + '%%') % y, (x+width, y + 1), ha='center')\n",
      "barlist[0].set_color((0.20588235294117647, 0.7196078431372549, 0.5666666666666667))\n",
      "barlist[3].set_color((0.20588235294117647, 0.5196078431372549, 0.4666666666666667))"
     ],
     "language": "python",
     "metadata": {},
     "outputs": [
      {
       "output_type": "stream",
       "stream": "stdout",
       "text": [
        "[1 2 3 4]\n"
       ]
      },
      {
       "metadata": {},
       "output_type": "display_data",
       "png": "[encoded data removed]",
       "text": [
        "<matplotlib.figure.Figure at 0x10a8b0450>"
       ]
      }
     ],
     "prompt_number": 11
    },
    {
     "cell_type": "code",
     "collapsed": false,
     "input": [
      "\"\"\"\n",
      "takes a dataframe ldf, makes a copy of it, and returns the copy\n",
      "with all averages and review counts recomputed\n",
      "this is used when a frame is subsetted.\n",
      "\"\"\"\n",
      "def recompute_frame(ldf):\n",
      "    ldfu=ldf.groupby('user_id')\n",
      "    ldfb=ldf.groupby('business_id')\n",
      "    user_avg=ldfu.rev_stars.mean()\n",
      "    user_review_count=ldfu.review_id.count()\n",
      "    business_avg=ldfb.rev_stars.mean()\n",
      "    business_review_count=ldfb.review_id.count()\n",
      "    nldf=ldf.copy()\n",
      "    nldf.set_index(['business_id'], inplace=True)\n",
      "    nldf['business_avg']=business_avg\n",
      "    nldf['business_review_count']=business_review_count\n",
      "    nldf.reset_index(inplace=True)\n",
      "    nldf.set_index(['user_id'], inplace=True)\n",
      "    nldf['user_avg']=user_avg\n",
      "    nldf['user_review_count']=user_review_count\n",
      "    nldf.reset_index(inplace=True)\n",
      "    return nldf"
     ],
     "language": "python",
     "metadata": {},
     "outputs": [],
     "prompt_number": 12
    },
    {
     "cell_type": "code",
     "collapsed": false,
     "input": [
      "# creates a smaller dataframe for users with small reviews and businesses with a small amount of reviews\n",
      "# these values are currently the min for the smaller df to work\n",
      "user_theshold = 2\n",
      "business_theshold = 4\n",
      "# smallidf=TrainMatrix[(TrainMatrix.user_review_count < user_theshold) & (TrainMatrix.bus_review_count < business_theshold)]\n",
      "smallidf=TrainMatrix[(TrainMatrix.bus_review_count < business_theshold)]\n",
      "smalldf=recompute_frame(smallidf)"
     ],
     "language": "python",
     "metadata": {},
     "outputs": [],
     "prompt_number": 13
    },
    {
     "cell_type": "code",
     "collapsed": false,
     "input": [
      "# Derpy plot\n",
      "print \"Total Number of Reviews\", smalldf.shape[0]\n",
      "print \"Users in this set\", smalldf.user_id.unique().shape[0], \"Restaurants\",smalldf.business_id.unique().shape[0]\n",
      "plt.figure()\n",
      "ax=smalldf.groupby('user_id').review_id.count().hist()\n",
      "remove_border(ax)\n",
      "plt.xlabel(\"Reviews per user\")\n",
      "plt.grid(False)\n",
      "plt.grid(axis = 'y', color ='white', linestyle='-')\n",
      "plt.figure()\n",
      "ax=smalldf.groupby('business_id').review_id.count().hist()\n",
      "remove_border(ax)\n",
      "plt.xlabel(\"Reviews per restaurant\")\n",
      "plt.grid(False)\n",
      "plt.grid(axis = 'y', color ='white', linestyle='-')"
     ],
     "language": "python",
     "metadata": {},
     "outputs": [
      {
       "output_type": "stream",
       "stream": "stdout",
       "text": [
        "Total Number of Reviews 7593\n",
        "Users in this set 5120 Restaurants 2531\n"
       ]
      },
      {
       "metadata": {},
       "output_type": "display_data",
       "png": "[encoded data removed]",
       "text": [
        "<matplotlib.figure.Figure at 0x10b54e4d0>"
       ]
      },
      {
       "metadata": {},
       "output_type": "display_data",
       "png": "[encoded data removed]",
       "text": [
        "<matplotlib.figure.Figure at 0x10f8e4a90>"
       ]
      }
     ],
     "prompt_number": 14
    },
    {
     "cell_type": "code",
     "collapsed": false,
     "input": [
      "plt.figure()\n",
      "avg_ratings_by_user=smalldf.groupby('user_id').rev_stars.mean()\n",
      "ax=avg_ratings_by_user.hist()\n",
      "remove_border(ax)\n",
      "plt.xlabel(\"Average review score\")\n",
      "plt.grid(False)\n",
      "plt.grid(axis = 'y', color ='white', linestyle='-')\n",
      "plt.title(\"Average User Rating\")\n",
      "plt.figure()\n",
      "\n",
      "avg_ratings_by_biz=smalldf.groupby('business_id').rev_stars.mean()\n",
      "ax=avg_ratings_by_biz.hist()\n",
      "remove_border(ax)\n",
      "plt.xlabel(\"Average review score\")\n",
      "plt.grid(False)\n",
      "plt.grid(axis = 'y', color ='white', linestyle='-')\n",
      "plt.title(\"Average Restaurant Rating\")\n",
      "plt.figure()\n",
      "\n",
      "print smalldf.rev_stars.mean()\n",
      "plt.figure()"
     ],
     "language": "python",
     "metadata": {},
     "outputs": [
      {
       "output_type": "stream",
       "stream": "stdout",
       "text": [
        "3.63400500461\n"
       ]
      },
      {
       "metadata": {},
       "output_type": "pyout",
       "prompt_number": 15,
       "text": [
        "<matplotlib.figure.Figure at 0x10b54e310>"
       ]
      },
      {
       "metadata": {},
       "output_type": "display_data",
       "png": "[encoded data removed]",
       "text": [
        "<matplotlib.figure.Figure at 0x10b430510>"
       ]
      },
      {
       "metadata": {},
       "output_type": "display_data",
       "png": "[encoded data removed]",
       "text": [
        "<matplotlib.figure.Figure at 0x10b564810>"
       ]
      },
      {
       "metadata": {},
       "output_type": "display_data",
       "text": [
        "<matplotlib.figure.Figure at 0x10a922c90>"
       ]
      },
      {
       "metadata": {},
       "output_type": "display_data",
       "text": [
        "<matplotlib.figure.Figure at 0x10b54e310>"
       ]
      }
     ],
     "prompt_number": 15
    },
    {
     "cell_type": "code",
     "collapsed": false,
     "input": [
      "def not_so_quick_train(block):\n",
      "    block.replace([np.inf, -np.inf], np.nan)\n",
      "    block.fillna(value=1)\n",
      "    review_stars_vector = block.rev_stars.values\n",
      "    user_name = block.user_name.values\n",
      "    user_average_stars = block.user_average_stars.values\n",
      "    bus_open = block.bus_open.values\n",
      "    bus_stars = block.bus_stars.values\n",
      "    bus_review_count = block.bus_review_count.values\n",
      "    user_review_count = block.user_review_count.values\n",
      "    features = [user_average_stars,bus_open,bus_stars,bus_review_count,user_review_count]\n",
      "    X = np.matrix(features).T\n",
      "    Y = np.matrix(review_stars_vector).T\n",
      "    return X,Y\n"
     ],
     "language": "python",
     "metadata": {},
     "outputs": [],
     "prompt_number": 18
    },
    {
     "cell_type": "code",
     "collapsed": false,
     "input": [
      "from sklearn.cross_validation import train_test_split\n",
      "X, Y = not_so_quick_train(TrainMatrix)\n",
      "\n"
     ],
     "language": "python",
     "metadata": {},
     "outputs": [],
     "prompt_number": 48
    },
    {
     "cell_type": "code",
     "collapsed": false,
     "input": [
      "f = np.isinf(X)\n",
      "for i in f:\n",
      "    print i\n",
      "    break\n"
     ],
     "language": "python",
     "metadata": {},
     "outputs": [
      {
       "output_type": "stream",
       "stream": "stdout",
       "text": [
        "[[False False False False False]]\n"
       ]
      }
     ],
     "prompt_number": 25
    },
    {
     "cell_type": "code",
     "collapsed": false,
     "input": [
      "X = np.nan_to_num(X)\n",
      "xtrain, xtest, ytrain, ytest = train_test_split(X, Y)"
     ],
     "language": "python",
     "metadata": {},
     "outputs": [],
     "prompt_number": 50
    },
    {
     "cell_type": "code",
     "collapsed": false,
     "input": [
      "from sklearn import cross_validation, linear_model\n",
      "clf = linear_model.LinearRegression().fit(xtrain, ytrain)\n",
      "print \"RMSE: %.2f\" % np.sqrt(np.mean((clf.predict(xtest) - ytest) ** 2))\n"
     ],
     "language": "python",
     "metadata": {},
     "outputs": [
      {
       "output_type": "stream",
       "stream": "stdout",
       "text": [
        "RMSE: 1.05\n"
       ]
      }
     ],
     "prompt_number": 30
    },
    {
     "cell_type": "code",
     "collapsed": false,
     "input": [
      "TestMatrix.head(2)"
     ],
     "language": "python",
     "metadata": {},
     "outputs": [
      {
       "html": [
        "<div style=\"max-height:1000px;max-width:1500px;overflow:auto;\">\n",
        "<table border=\"1\" class=\"dataframe\">\n",
        "  <thead>\n",
        "    <tr style=\"text-align: right;\">\n",
        "      <th></th>\n",
        "      <th>business_id</th>\n",
        "      <th>review_id</th>\n",
        "      <th>rev_type</th>\n",
        "      <th>user_id</th>\n",
        "      <th>bus_categories</th>\n",
        "      <th>bus_city</th>\n",
        "      <th>bus_full_address</th>\n",
        "      <th>bus_latitude</th>\n",
        "      <th>bus_longitude</th>\n",
        "      <th>bus_name</th>\n",
        "      <th>bus_neighborhoods</th>\n",
        "      <th>bus_open</th>\n",
        "      <th>bus_review_count</th>\n",
        "      <th>bus_stars</th>\n",
        "      <th>bus_state</th>\n",
        "      <th>bus_type</th>\n",
        "      <th>cool</th>\n",
        "      <th>funny</th>\n",
        "      <th>gender</th>\n",
        "      <th>useful</th>\n",
        "      <th>user_average_stars</th>\n",
        "      <th>user_name</th>\n",
        "      <th>user_review_count</th>\n",
        "      <th>user_type</th>\n",
        "      <th>user_votes</th>\n",
        "    </tr>\n",
        "  </thead>\n",
        "  <tbody>\n",
        "    <tr>\n",
        "      <th>0</th>\n",
        "      <td> -sC66z4SO3tR7nFCjfQwuQ</td>\n",
        "      <td> Wv-4SQr9UUztIBnjzHu9-g</td>\n",
        "      <td> review</td>\n",
        "      <td> dqeFcKq2L2wiOg9LFT9-UA</td>\n",
        "      <td>                          [Mexican, Restaurants]</td>\n",
        "      <td> Phoenix</td>\n",
        "      <td> 401 W Clarendon Ave\\nPhoenix, AZ 85013</td>\n",
        "      <td> 33.491120</td>\n",
        "      <td>-112.079081</td>\n",
        "      <td> Gallo Blanco Cafe</td>\n",
        "      <td> []</td>\n",
        "      <td> True</td>\n",
        "      <td> 549</td>\n",
        "      <td> 4.0</td>\n",
        "      <td> AZ</td>\n",
        "      <td> business</td>\n",
        "      <td> 6</td>\n",
        "      <td> 8</td>\n",
        "      <td>-1</td>\n",
        "      <td> 20</td>\n",
        "      <td> 4.05</td>\n",
        "      <td> Ty</td>\n",
        "      <td> 63</td>\n",
        "      <td> user</td>\n",
        "      <td> {u'funny': 8, u'useful': 20, u'cool': 6}</td>\n",
        "    </tr>\n",
        "    <tr>\n",
        "      <th>1</th>\n",
        "      <td> qw93CjlAZ6a4ff11Z-hF3Q</td>\n",
        "      <td> ZN-kVEwrIQouWyLp-d6R5A</td>\n",
        "      <td> review</td>\n",
        "      <td> dqeFcKq2L2wiOg9LFT9-UA</td>\n",
        "      <td> [Arts &amp; Entertainment, Nightlife, Music Venues]</td>\n",
        "      <td> Phoenix</td>\n",
        "      <td>       308 N 2nd Ave\\nPhoenix, AZ 85003</td>\n",
        "      <td> 33.451716</td>\n",
        "      <td>-112.076437</td>\n",
        "      <td> Crescent Ballroom</td>\n",
        "      <td> []</td>\n",
        "      <td> True</td>\n",
        "      <td> 145</td>\n",
        "      <td> 4.5</td>\n",
        "      <td> AZ</td>\n",
        "      <td> business</td>\n",
        "      <td> 6</td>\n",
        "      <td> 8</td>\n",
        "      <td>-1</td>\n",
        "      <td> 20</td>\n",
        "      <td> 4.05</td>\n",
        "      <td> Ty</td>\n",
        "      <td> 63</td>\n",
        "      <td> user</td>\n",
        "      <td> {u'funny': 8, u'useful': 20, u'cool': 6}</td>\n",
        "    </tr>\n",
        "  </tbody>\n",
        "</table>\n",
        "</div>"
       ],
       "metadata": {},
       "output_type": "pyout",
       "prompt_number": 71,
       "text": [
        "              business_id               review_id rev_type                 user_id                                   bus_categories bus_city                        bus_full_address  bus_latitude  bus_longitude           bus_name bus_neighborhoods bus_open  bus_review_count  bus_stars bus_state  bus_type  cool  funny  gender  useful  user_average_stars user_name  user_review_count user_type                                user_votes\n",
        "0  -sC66z4SO3tR7nFCjfQwuQ  Wv-4SQr9UUztIBnjzHu9-g   review  dqeFcKq2L2wiOg9LFT9-UA                           [Mexican, Restaurants]  Phoenix  401 W Clarendon Ave\\nPhoenix, AZ 85013     33.491120    -112.079081  Gallo Blanco Cafe                []     True               549        4.0        AZ  business     6      8      -1      20                4.05        Ty                 63      user  {u'funny': 8, u'useful': 20, u'cool': 6}\n",
        "1  qw93CjlAZ6a4ff11Z-hF3Q  ZN-kVEwrIQouWyLp-d6R5A   review  dqeFcKq2L2wiOg9LFT9-UA  [Arts & Entertainment, Nightlife, Music Venues]  Phoenix        308 N 2nd Ave\\nPhoenix, AZ 85003     33.451716    -112.076437  Crescent Ballroom                []     True               145        4.5        AZ  business     6      8      -1      20                4.05        Ty                 63      user  {u'funny': 8, u'useful': 20, u'cool': 6}"
       ]
      }
     ],
     "prompt_number": 71
    },
    {
     "cell_type": "code",
     "collapsed": false,
     "input": [
      "missing_both.bus_stars.fillna(value=2, inplace=True)\n",
      "missing_both.head(2)"
     ],
     "language": "python",
     "metadata": {},
     "outputs": [
      {
       "html": [
        "<div style=\"max-height:1000px;max-width:1500px;overflow:auto;\">\n",
        "<table border=\"1\" class=\"dataframe\">\n",
        "  <thead>\n",
        "    <tr style=\"text-align: right;\">\n",
        "      <th></th>\n",
        "      <th>business_id</th>\n",
        "      <th>review_id</th>\n",
        "      <th>rev_type</th>\n",
        "      <th>user_id</th>\n",
        "      <th>bus_categories</th>\n",
        "      <th>bus_city</th>\n",
        "      <th>bus_full_address</th>\n",
        "      <th>bus_latitude</th>\n",
        "      <th>bus_longitude</th>\n",
        "      <th>bus_name</th>\n",
        "      <th>bus_neighborhoods</th>\n",
        "      <th>bus_open</th>\n",
        "      <th>bus_review_count</th>\n",
        "      <th>bus_stars</th>\n",
        "      <th>bus_state</th>\n",
        "      <th>bus_type</th>\n",
        "      <th>cool</th>\n",
        "      <th>funny</th>\n",
        "      <th>gender</th>\n",
        "      <th>useful</th>\n",
        "      <th>user_average_stars</th>\n",
        "      <th>user_name</th>\n",
        "      <th>user_review_count</th>\n",
        "      <th>user_type</th>\n",
        "      <th>user_votes</th>\n",
        "    </tr>\n",
        "  </thead>\n",
        "  <tbody>\n",
        "    <tr>\n",
        "      <th>32768</th>\n",
        "      <td> _lbISlJGZjJV3CuvQTcCHw</td>\n",
        "      <td> xbeFDiuHee-N7fWK-Ftjxw</td>\n",
        "      <td> review</td>\n",
        "      <td> awkpeWY1q6y12ZM_BUkNhA</td>\n",
        "      <td>                  [Beauty &amp; Spas, Nail Salons]</td>\n",
        "      <td>  Peoria</td>\n",
        "      <td> 8422 W Thunderbird Rd Ste 105\\nPeoria, AZ 85381</td>\n",
        "      <td> 33.610038</td>\n",
        "      <td>-112.240285</td>\n",
        "      <td>           Paulene's Nails</td>\n",
        "      <td> []</td>\n",
        "      <td> True</td>\n",
        "      <td> 4</td>\n",
        "      <td> 2</td>\n",
        "      <td> AZ</td>\n",
        "      <td> business</td>\n",
        "      <td>NaN</td>\n",
        "      <td>NaN</td>\n",
        "      <td>NaN</td>\n",
        "      <td>NaN</td>\n",
        "      <td>NaN</td>\n",
        "      <td> Shannon</td>\n",
        "      <td>  3</td>\n",
        "      <td> user</td>\n",
        "      <td> NaN</td>\n",
        "    </tr>\n",
        "    <tr>\n",
        "      <th>28642</th>\n",
        "      <td> 06EgUvLQBTXJrLKyv41mxA</td>\n",
        "      <td> MIUPsdURVXIH-bnBo9eRpw</td>\n",
        "      <td> review</td>\n",
        "      <td> ROmwELi7QEYONwbel1Fy1A</td>\n",
        "      <td> [Midwives, Medical Centers, Health &amp; Medical]</td>\n",
        "      <td> Phoenix</td>\n",
        "      <td>          215 E Lexington Ave\\nPhoenix, AZ 85012</td>\n",
        "      <td> 33.485846</td>\n",
        "      <td>-112.070388</td>\n",
        "      <td> Babymoon Inn Birth Center</td>\n",
        "      <td> []</td>\n",
        "      <td> True</td>\n",
        "      <td> 6</td>\n",
        "      <td> 2</td>\n",
        "      <td> AZ</td>\n",
        "      <td> business</td>\n",
        "      <td>NaN</td>\n",
        "      <td>NaN</td>\n",
        "      <td>NaN</td>\n",
        "      <td>NaN</td>\n",
        "      <td>NaN</td>\n",
        "      <td>    Erin</td>\n",
        "      <td> 18</td>\n",
        "      <td> user</td>\n",
        "      <td> NaN</td>\n",
        "    </tr>\n",
        "  </tbody>\n",
        "</table>\n",
        "</div>"
       ],
       "metadata": {},
       "output_type": "pyout",
       "prompt_number": 70,
       "text": [
        "                  business_id               review_id rev_type                 user_id                                 bus_categories bus_city                                 bus_full_address  bus_latitude  bus_longitude                   bus_name bus_neighborhoods bus_open  bus_review_count  bus_stars bus_state  bus_type  cool  funny  gender  useful  user_average_stars user_name  user_review_count user_type user_votes\n",
        "32768  _lbISlJGZjJV3CuvQTcCHw  xbeFDiuHee-N7fWK-Ftjxw   review  awkpeWY1q6y12ZM_BUkNhA                   [Beauty & Spas, Nail Salons]   Peoria  8422 W Thunderbird Rd Ste 105\\nPeoria, AZ 85381     33.610038    -112.240285            Paulene's Nails                []     True                 4          2        AZ  business   NaN    NaN     NaN     NaN                 NaN   Shannon                  3      user        NaN\n",
        "28642  06EgUvLQBTXJrLKyv41mxA  MIUPsdURVXIH-bnBo9eRpw   review  ROmwELi7QEYONwbel1Fy1A  [Midwives, Medical Centers, Health & Medical]  Phoenix           215 E Lexington Ave\\nPhoenix, AZ 85012     33.485846    -112.070388  Babymoon Inn Birth Center                []     True                 6          2        AZ  business   NaN    NaN     NaN     NaN                 NaN      Erin                 18      user        NaN"
       ]
      }
     ],
     "prompt_number": 70
    },
    {
     "cell_type": "code",
     "collapsed": false,
     "input": [
      "pd.DataFrame(['a','b'])"
     ],
     "language": "python",
     "metadata": {},
     "outputs": [
      {
       "html": [
        "<div style=\"max-height:1000px;max-width:1500px;overflow:auto;\">\n",
        "<table border=\"1\" class=\"dataframe\">\n",
        "  <thead>\n",
        "    <tr style=\"text-align: right;\">\n",
        "      <th></th>\n",
        "      <th>0</th>\n",
        "    </tr>\n",
        "  </thead>\n",
        "  <tbody>\n",
        "    <tr>\n",
        "      <th>0</th>\n",
        "      <td> a</td>\n",
        "    </tr>\n",
        "    <tr>\n",
        "      <th>1</th>\n",
        "      <td> b</td>\n",
        "    </tr>\n",
        "  </tbody>\n",
        "</table>\n",
        "</div>"
       ],
       "metadata": {},
       "output_type": "pyout",
       "prompt_number": 73,
       "text": [
        "   0\n",
        "0  a\n",
        "1  b"
       ]
      }
     ],
     "prompt_number": 73
    },
    {
     "cell_type": "code",
     "collapsed": false,
     "input": [],
     "language": "python",
     "metadata": {},
     "outputs": []
    }
   ],
   "metadata": {}
  }
 ]
}