{
 "metadata": {
  "name": "",
  "signature": "sha256:9cafb12cd334663f8b931f21f0fab4ddfe7c2e5639f0441ea9468a999a00184f"
 },
 "nbformat": 3,
 "nbformat_minor": 0,
 "worksheets": [
  {
   "cells": [
    {
     "cell_type": "markdown",
     "metadata": {},
     "source": [
      "Code for visualizations and playing around"
     ]
    },
    {
     "cell_type": "code",
     "collapsed": false,
     "input": [
      "# libraries and stuff to make plots look shiny\n",
      "%matplotlib inline\n",
      "from collections import defaultdict\n",
      "import json\n",
      "\n",
      "import numpy as np\n",
      "import scipy as sp\n",
      "import matplotlib.pyplot as plt\n",
      "import pandas as pd\n",
      "\n",
      "from matplotlib import rcParams\n",
      "import matplotlib.cm as cm\n",
      "import matplotlib as mpl\n",
      "\n",
      "#colorbrewer2 Dark2 qualitative color table\n",
      "dark2_colors = [(0.10588235294117647, 0.6196078431372549, 0.4666666666666667),\n",
      "                (0.8509803921568627, 0.37254901960784315, 0.00784313725490196),\n",
      "                (0.4588235294117647, 0.4392156862745098, 0.7019607843137254),\n",
      "                (0.9058823529411765, 0.1607843137254902, 0.5411764705882353),\n",
      "                (0.4, 0.6509803921568628, 0.11764705882352941),\n",
      "                (0.9019607843137255, 0.6705882352941176, 0.00784313725490196),\n",
      "                (0.6509803921568628, 0.4627450980392157, 0.11372549019607843)]\n",
      "\n",
      "rcParams['figure.figsize'] = (10, 6)\n",
      "rcParams['figure.dpi'] = 150\n",
      "rcParams['axes.color_cycle'] = dark2_colors\n",
      "rcParams['lines.linewidth'] = 2\n",
      "rcParams['axes.facecolor'] = 'white'\n",
      "rcParams['font.size'] = 14\n",
      "rcParams['patch.edgecolor'] = 'white'\n",
      "rcParams['patch.facecolor'] = dark2_colors[0]\n",
      "rcParams['font.family'] = 'StixGeneral'\n",
      "\n",
      "\n",
      "def remove_border(axes=None, top=False, right=False, left=True, bottom=True):\n",
      "    \"\"\"\n",
      "    Minimize chartjunk by stripping out unnecesasry plot borders and axis ticks\n",
      "    \n",
      "    The top/right/left/bottom keywords toggle whether the corresponding plot border is drawn\n",
      "    \"\"\"\n",
      "    ax = axes or plt.gca()\n",
      "    ax.spines['top'].set_visible(top)\n",
      "    ax.spines['right'].set_visible(right)\n",
      "    ax.spines['left'].set_visible(left)\n",
      "    ax.spines['bottom'].set_visible(bottom)\n",
      "    \n",
      "    #turn off all ticks\n",
      "    ax.yaxis.set_ticks_position('none')\n",
      "    ax.xaxis.set_ticks_position('none')\n",
      "    \n",
      "    #now re-enable visibles\n",
      "    if top:\n",
      "        ax.xaxis.tick_top()\n",
      "    if bottom:\n",
      "        ax.xaxis.tick_bottom()\n",
      "    if left:\n",
      "        ax.yaxis.tick_left()\n",
      "    if right:\n",
      "        ax.yaxis.tick_right()\n",
      "        \n",
      "pd.set_option('display.width', 500)\n",
      "pd.set_option('display.max_columns', 100)"
     ],
     "language": "python",
     "metadata": {},
     "outputs": [],
     "prompt_number": 1
    },
    {
     "cell_type": "code",
     "collapsed": false,
     "input": [
      "# loads the pickle files\n",
      "trainingreviews = pd.io.pickle.read_pickle('./trainingreviews.pkl')\n",
      "trainingbusiness = pd.io.pickle.read_pickle('./trainingbusiness.pkl')\n",
      "trainingusers = pd.io.pickle.read_pickle('./trainingusers.pkl')\n",
      "\n",
      "testreviews = pd.io.pickle.read_pickle('./testreviews.pkl')\n",
      "testbusiness = pd.io.pickle.read_pickle('./testbusiness.pkl')\n",
      "testusers = pd.io.pickle.read_pickle('./testusers.pkl')\n"
     ],
     "language": "python",
     "metadata": {},
     "outputs": [],
     "prompt_number": 2
    },
    {
     "cell_type": "code",
     "collapsed": false,
     "input": [
      "print 'Total number of reviews in training: ' + str(len(trainingreviews.index)) \n",
      "print 'Total number of reviews in test: ' + str(len(testreviews.index))\n",
      "testreviews.head(2)"
     ],
     "language": "python",
     "metadata": {},
     "outputs": [
      {
       "output_type": "stream",
       "stream": "stdout",
       "text": [
        "Total number of reviews in training: 229907\n",
        "Total number of reviews in test: 36404\n"
       ]
      },
      {
       "html": [
        "<div style=\"max-height:1000px;max-width:1500px;overflow:auto;\">\n",
        "<table border=\"1\" class=\"dataframe\">\n",
        "  <thead>\n",
        "    <tr style=\"text-align: right;\">\n",
        "      <th></th>\n",
        "      <th>business_id</th>\n",
        "      <th>review_id</th>\n",
        "      <th>rev_type</th>\n",
        "      <th>user_id</th>\n",
        "    </tr>\n",
        "  </thead>\n",
        "  <tbody>\n",
        "    <tr>\n",
        "      <th>0</th>\n",
        "      <td> -sC66z4SO3tR7nFCjfQwuQ</td>\n",
        "      <td> Wv-4SQr9UUztIBnjzHu9-g</td>\n",
        "      <td> review</td>\n",
        "      <td> dqeFcKq2L2wiOg9LFT9-UA</td>\n",
        "    </tr>\n",
        "    <tr>\n",
        "      <th>1</th>\n",
        "      <td> n3CpBxY6turmqrihCjNbAQ</td>\n",
        "      <td> 6CQgD-mC2hZkHLiRSXc3wQ</td>\n",
        "      <td> review</td>\n",
        "      <td> XZxDoqyUJu2qMOY8HiEDsg</td>\n",
        "    </tr>\n",
        "  </tbody>\n",
        "</table>\n",
        "</div>"
       ],
       "metadata": {},
       "output_type": "pyout",
       "prompt_number": 39,
       "text": [
        "              business_id               review_id rev_type                 user_id\n",
        "0  -sC66z4SO3tR7nFCjfQwuQ  Wv-4SQr9UUztIBnjzHu9-g   review  dqeFcKq2L2wiOg9LFT9-UA\n",
        "1  n3CpBxY6turmqrihCjNbAQ  6CQgD-mC2hZkHLiRSXc3wQ   review  XZxDoqyUJu2qMOY8HiEDsg"
       ]
      }
     ],
     "prompt_number": 39
    },
    {
     "cell_type": "code",
     "collapsed": false,
     "input": [
      "# performs the merge\n",
      "TrainMatrix = trainingreviews.merge(trainingbusiness,on=\"business_id\")\n",
      "TrainMatrix = TrainMatrix.merge(trainingusers,on=\"user_id\", how='left')\n",
      "TestMatrix = testreviews.merge(testbusiness,on=\"business_id\", how='left')\n",
      "TestMatrix = TestMatrix.merge(testusers,on=\"user_id\", how='left')\n",
      "print 'Training DF length: ' + str(len(TrainMatrix.index))\n",
      "print 'Test DF length: ' + str(len(TestMatrix.index))\n",
      "TestMatrix.head(2)"
     ],
     "language": "python",
     "metadata": {},
     "outputs": [
      {
       "output_type": "stream",
       "stream": "stdout",
       "text": [
        "Training DF length: 229907\n",
        "Test DF length: 36404\n"
       ]
      },
      {
       "html": [
        "<div style=\"max-height:1000px;max-width:1500px;overflow:auto;\">\n",
        "<table border=\"1\" class=\"dataframe\">\n",
        "  <thead>\n",
        "    <tr style=\"text-align: right;\">\n",
        "      <th></th>\n",
        "      <th>business_id</th>\n",
        "      <th>review_id</th>\n",
        "      <th>rev_type</th>\n",
        "      <th>user_id</th>\n",
        "      <th>bus_categories</th>\n",
        "      <th>bus_city</th>\n",
        "      <th>bus_full_address</th>\n",
        "      <th>bus_latitude</th>\n",
        "      <th>bus_longitude</th>\n",
        "      <th>bus_name</th>\n",
        "      <th>bus_neighborhoods</th>\n",
        "      <th>bus_open</th>\n",
        "      <th>bus_review_count</th>\n",
        "      <th>bus_state</th>\n",
        "      <th>bus_type</th>\n",
        "      <th>user_name</th>\n",
        "      <th>user_review_count</th>\n",
        "      <th>user_type</th>\n",
        "    </tr>\n",
        "  </thead>\n",
        "  <tbody>\n",
        "    <tr>\n",
        "      <th>0</th>\n",
        "      <td> -sC66z4SO3tR7nFCjfQwuQ</td>\n",
        "      <td> Wv-4SQr9UUztIBnjzHu9-g</td>\n",
        "      <td> review</td>\n",
        "      <td> dqeFcKq2L2wiOg9LFT9-UA</td>\n",
        "      <td> NaN</td>\n",
        "      <td> NaN</td>\n",
        "      <td> NaN</td>\n",
        "      <td>NaN</td>\n",
        "      <td>NaN</td>\n",
        "      <td> NaN</td>\n",
        "      <td> NaN</td>\n",
        "      <td> NaN</td>\n",
        "      <td>NaN</td>\n",
        "      <td> NaN</td>\n",
        "      <td> NaN</td>\n",
        "      <td> NaN</td>\n",
        "      <td>NaN</td>\n",
        "      <td> NaN</td>\n",
        "    </tr>\n",
        "    <tr>\n",
        "      <th>1</th>\n",
        "      <td> qw93CjlAZ6a4ff11Z-hF3Q</td>\n",
        "      <td> ZN-kVEwrIQouWyLp-d6R5A</td>\n",
        "      <td> review</td>\n",
        "      <td> dqeFcKq2L2wiOg9LFT9-UA</td>\n",
        "      <td> NaN</td>\n",
        "      <td> NaN</td>\n",
        "      <td> NaN</td>\n",
        "      <td>NaN</td>\n",
        "      <td>NaN</td>\n",
        "      <td> NaN</td>\n",
        "      <td> NaN</td>\n",
        "      <td> NaN</td>\n",
        "      <td>NaN</td>\n",
        "      <td> NaN</td>\n",
        "      <td> NaN</td>\n",
        "      <td> NaN</td>\n",
        "      <td>NaN</td>\n",
        "      <td> NaN</td>\n",
        "    </tr>\n",
        "  </tbody>\n",
        "</table>\n",
        "</div>"
       ],
       "metadata": {},
       "output_type": "pyout",
       "prompt_number": 38,
       "text": [
        "              business_id               review_id rev_type                 user_id bus_categories bus_city bus_full_address  bus_latitude  bus_longitude bus_name bus_neighborhoods bus_open  bus_review_count bus_state bus_type user_name  user_review_count user_type\n",
        "0  -sC66z4SO3tR7nFCjfQwuQ  Wv-4SQr9UUztIBnjzHu9-g   review  dqeFcKq2L2wiOg9LFT9-UA            NaN      NaN              NaN           NaN            NaN      NaN               NaN      NaN               NaN       NaN      NaN       NaN                NaN       NaN\n",
        "1  qw93CjlAZ6a4ff11Z-hF3Q  ZN-kVEwrIQouWyLp-d6R5A   review  dqeFcKq2L2wiOg9LFT9-UA            NaN      NaN              NaN           NaN            NaN      NaN               NaN      NaN               NaN       NaN      NaN       NaN                NaN       NaN"
       ]
      }
     ],
     "prompt_number": 38
    },
    {
     "cell_type": "code",
     "collapsed": false,
     "input": [
      "urc=TrainMatrix.groupby('user_id').review_id.count()\n",
      "ax=urc.hist(bins=50, log=True)\n",
      "remove_border(ax)\n",
      "plt.xlabel(\"Reviews per user\")\n",
      "plt.grid(False)\n",
      "plt.grid(axis = 'y', color ='white', linestyle='-')\n",
      "plt.title(\"Review Count per User\");"
     ],
     "language": "python",
     "metadata": {},
     "outputs": [
      {
       "metadata": {},
       "output_type": "display_data",
       "png": "[encoded data removed]",
       "text": [
        "<matplotlib.figure.Figure at 0x10ffbea10>"
       ]
      }
     ],
     "prompt_number": 27
    },
    {
     "cell_type": "code",
     "collapsed": false,
     "input": [
      "urc=TrainMatrix.groupby('business_id').review_id.count()\n",
      "ax=urc.hist(bins=50, log=True)\n",
      "remove_border(ax)\n",
      "plt.xlabel(\"Reviews per user\")\n",
      "plt.grid(False)\n",
      "plt.grid(axis = 'y', color ='white', linestyle='-')\n",
      "plt.title(\"Review Count per User\");"
     ],
     "language": "python",
     "metadata": {},
     "outputs": [
      {
       "metadata": {},
       "output_type": "display_data",
       "png": "[encoded data removed]",
       "text": [
        "<matplotlib.figure.Figure at 0x10ff7aa90>"
       ]
      }
     ],
     "prompt_number": 28
    },
    {
     "cell_type": "code",
     "collapsed": false,
     "input": [
      "#your code here\n",
      "print \"Mean stars over all reviews:\",TrainMatrix.rev_stars.mean()\n",
      "stars=TrainMatrix.rev_stars\n",
      "ax=stars.hist(bins=5)\n",
      "remove_border(ax)\n",
      "plt.xlabel(\"Star rating\")\n",
      "plt.grid(False)\n",
      "plt.grid(axis = 'y', color ='white', linestyle='-')\n",
      "plt.title(\"Star ratings over all reviews\");"
     ],
     "language": "python",
     "metadata": {},
     "outputs": [
      {
       "output_type": "stream",
       "stream": "stdout",
       "text": [
        "Mean stars over all reviews: 3.76672306628\n"
       ]
      },
      {
       "metadata": {},
       "output_type": "display_data",
       "png": "[encoded data removed]",
       "text": [
        "<matplotlib.figure.Figure at 0x11018b590>"
       ]
      }
     ],
     "prompt_number": 29
    },
    {
     "cell_type": "code",
     "collapsed": false,
     "input": [
      "# testing out the code bits I worked on earlier-\n",
      "df_index = TestMatrix.index.values.tolist()\n",
      "business_index = pd.isnull(TestMatrix['bus_name']).tolist()\n",
      "business_index = [i for i, elem in enumerate(business_index) if elem]\n",
      "user_index = pd.isnull(TestMatrix['user_review_count']).tolist()\n",
      "user_index = [i for i, elem in enumerate(user_index) if elem]\n",
      "\n",
      "# finds the indices depending on what is missing\n",
      "missing_both_index = list(set(business_index) & set(user_index))\n",
      "missing_business_index = list(set(user_index) - set(business_index))\n",
      "missing_user_index = list(set(business_index) - set(user_index))\n",
      "missing_none = list(set(df_index) - set(business_index) - set(user_index))"
     ],
     "language": "python",
     "metadata": {},
     "outputs": [],
     "prompt_number": 73
    },
    {
     "cell_type": "code",
     "collapsed": false,
     "input": [
      "missing_none_df = TestMatrix.iloc[missing_none, :]\n",
      "missing_none_df.head()"
     ],
     "language": "python",
     "metadata": {},
     "outputs": [
      {
       "html": [
        "<div style=\"max-height:1000px;max-width:1500px;overflow:auto;\">\n",
        "<table border=\"1\" class=\"dataframe\">\n",
        "  <thead>\n",
        "    <tr style=\"text-align: right;\">\n",
        "      <th></th>\n",
        "      <th>business_id</th>\n",
        "      <th>review_id</th>\n",
        "      <th>rev_type</th>\n",
        "      <th>user_id</th>\n",
        "      <th>bus_categories</th>\n",
        "      <th>bus_city</th>\n",
        "      <th>bus_full_address</th>\n",
        "      <th>bus_latitude</th>\n",
        "      <th>bus_longitude</th>\n",
        "      <th>bus_name</th>\n",
        "      <th>bus_neighborhoods</th>\n",
        "      <th>bus_open</th>\n",
        "      <th>bus_review_count</th>\n",
        "      <th>bus_state</th>\n",
        "      <th>bus_type</th>\n",
        "      <th>user_name</th>\n",
        "      <th>user_review_count</th>\n",
        "      <th>user_type</th>\n",
        "    </tr>\n",
        "  </thead>\n",
        "  <tbody>\n",
        "    <tr>\n",
        "      <th>32768</th>\n",
        "      <td> _lbISlJGZjJV3CuvQTcCHw</td>\n",
        "      <td> xbeFDiuHee-N7fWK-Ftjxw</td>\n",
        "      <td> review</td>\n",
        "      <td> awkpeWY1q6y12ZM_BUkNhA</td>\n",
        "      <td>                  [Beauty &amp; Spas, Nail Salons]</td>\n",
        "      <td>   Peoria</td>\n",
        "      <td>   8422 W Thunderbird Rd Ste 105\\nPeoria, AZ 85381</td>\n",
        "      <td> 33.610038</td>\n",
        "      <td>-112.240285</td>\n",
        "      <td>           Paulene's Nails</td>\n",
        "      <td> []</td>\n",
        "      <td> True</td>\n",
        "      <td>  4</td>\n",
        "      <td> AZ</td>\n",
        "      <td> business</td>\n",
        "      <td> Shannon</td>\n",
        "      <td>  3</td>\n",
        "      <td> user</td>\n",
        "    </tr>\n",
        "    <tr>\n",
        "      <th>28642</th>\n",
        "      <td> 06EgUvLQBTXJrLKyv41mxA</td>\n",
        "      <td> MIUPsdURVXIH-bnBo9eRpw</td>\n",
        "      <td> review</td>\n",
        "      <td> ROmwELi7QEYONwbel1Fy1A</td>\n",
        "      <td> [Midwives, Medical Centers, Health &amp; Medical]</td>\n",
        "      <td>  Phoenix</td>\n",
        "      <td>            215 E Lexington Ave\\nPhoenix, AZ 85012</td>\n",
        "      <td> 33.485846</td>\n",
        "      <td>-112.070388</td>\n",
        "      <td> Babymoon Inn Birth Center</td>\n",
        "      <td> []</td>\n",
        "      <td> True</td>\n",
        "      <td>  6</td>\n",
        "      <td> AZ</td>\n",
        "      <td> business</td>\n",
        "      <td>    Erin</td>\n",
        "      <td> 18</td>\n",
        "      <td> user</td>\n",
        "    </tr>\n",
        "    <tr>\n",
        "      <th>9    </th>\n",
        "      <td> uKNp1tdMEibbriPE9bhZKg</td>\n",
        "      <td> x_f5fZ07ifUMcY4ynLTfXA</td>\n",
        "      <td> review</td>\n",
        "      <td> 1iPwphO6qyB3cYgfljvzlQ</td>\n",
        "      <td>              [Auto Repair, Automotive, Tires]</td>\n",
        "      <td>  Phoenix</td>\n",
        "      <td>                 3636 N 16th St\\nPhoenix, AZ 85016</td>\n",
        "      <td> 33.490587</td>\n",
        "      <td>-112.047684</td>\n",
        "      <td>      Martin's Auto Repair</td>\n",
        "      <td> []</td>\n",
        "      <td> True</td>\n",
        "      <td> 14</td>\n",
        "      <td> AZ</td>\n",
        "      <td> business</td>\n",
        "      <td>    Nick</td>\n",
        "      <td>  6</td>\n",
        "      <td> user</td>\n",
        "    </tr>\n",
        "    <tr>\n",
        "      <th>24586</th>\n",
        "      <td> yvoQRQbWS1GoXCxftak6Qw</td>\n",
        "      <td> DEdutUIH1kP82LEl5POpAQ</td>\n",
        "      <td> review</td>\n",
        "      <td> 4g5z1RXitZQalOis6ruiNg</td>\n",
        "      <td>      [Food, Coffee &amp; Tea, Cafes, Restaurants]</td>\n",
        "      <td> Glendale</td>\n",
        "      <td> 7155 W Campo Bello Dr\\nBldg A, Ste 2\\nGlendale...</td>\n",
        "      <td> 33.641875</td>\n",
        "      <td>-112.213605</td>\n",
        "      <td>                 Cafe Lito</td>\n",
        "      <td> []</td>\n",
        "      <td> True</td>\n",
        "      <td>  4</td>\n",
        "      <td> AZ</td>\n",
        "      <td> business</td>\n",
        "      <td> Giselle</td>\n",
        "      <td>  3</td>\n",
        "      <td> user</td>\n",
        "    </tr>\n",
        "    <tr>\n",
        "      <th>9559 </th>\n",
        "      <td> aX4uzK16fG9guQocVVwcWA</td>\n",
        "      <td> SYFp7Ig1t_WZdlQyLQbXQA</td>\n",
        "      <td> review</td>\n",
        "      <td> q_EnzoEIHLqmsGIQMIuyjQ</td>\n",
        "      <td>                        [Car Wash, Automotive]</td>\n",
        "      <td>  Phoenix</td>\n",
        "      <td>        4402 E Indian School Rd\\nPhoenix, AZ 85018</td>\n",
        "      <td> 33.494874</td>\n",
        "      <td>-111.986769</td>\n",
        "      <td>          Arcadia Car Wash</td>\n",
        "      <td> []</td>\n",
        "      <td> True</td>\n",
        "      <td> 17</td>\n",
        "      <td> AZ</td>\n",
        "      <td> business</td>\n",
        "      <td>   Ellie</td>\n",
        "      <td> 19</td>\n",
        "      <td> user</td>\n",
        "    </tr>\n",
        "  </tbody>\n",
        "</table>\n",
        "</div>"
       ],
       "metadata": {},
       "output_type": "pyout",
       "prompt_number": 74,
       "text": [
        "                  business_id               review_id rev_type                 user_id                                 bus_categories  bus_city                                   bus_full_address  bus_latitude  bus_longitude                   bus_name bus_neighborhoods bus_open  bus_review_count bus_state  bus_type user_name  user_review_count user_type\n",
        "32768  _lbISlJGZjJV3CuvQTcCHw  xbeFDiuHee-N7fWK-Ftjxw   review  awkpeWY1q6y12ZM_BUkNhA                   [Beauty & Spas, Nail Salons]    Peoria    8422 W Thunderbird Rd Ste 105\\nPeoria, AZ 85381     33.610038    -112.240285            Paulene's Nails                []     True                 4        AZ  business   Shannon                  3      user\n",
        "28642  06EgUvLQBTXJrLKyv41mxA  MIUPsdURVXIH-bnBo9eRpw   review  ROmwELi7QEYONwbel1Fy1A  [Midwives, Medical Centers, Health & Medical]   Phoenix             215 E Lexington Ave\\nPhoenix, AZ 85012     33.485846    -112.070388  Babymoon Inn Birth Center                []     True                 6        AZ  business      Erin                 18      user\n",
        "9      uKNp1tdMEibbriPE9bhZKg  x_f5fZ07ifUMcY4ynLTfXA   review  1iPwphO6qyB3cYgfljvzlQ               [Auto Repair, Automotive, Tires]   Phoenix                  3636 N 16th St\\nPhoenix, AZ 85016     33.490587    -112.047684       Martin's Auto Repair                []     True                14        AZ  business      Nick                  6      user\n",
        "24586  yvoQRQbWS1GoXCxftak6Qw  DEdutUIH1kP82LEl5POpAQ   review  4g5z1RXitZQalOis6ruiNg       [Food, Coffee & Tea, Cafes, Restaurants]  Glendale  7155 W Campo Bello Dr\\nBldg A, Ste 2\\nGlendale...     33.641875    -112.213605                  Cafe Lito                []     True                 4        AZ  business   Giselle                  3      user\n",
        "9559   aX4uzK16fG9guQocVVwcWA  SYFp7Ig1t_WZdlQyLQbXQA   review  q_EnzoEIHLqmsGIQMIuyjQ                         [Car Wash, Automotive]   Phoenix         4402 E Indian School Rd\\nPhoenix, AZ 85018     33.494874    -111.986769           Arcadia Car Wash                []     True                17        AZ  business     Ellie                 19      user"
       ]
      }
     ],
     "prompt_number": 74
    },
    {
     "cell_type": "code",
     "collapsed": false,
     "input": [
      "# visualize the percentage of the missing data\n",
      "percentages = np.array([len(missing_none), len(missing_business_index), \n",
      "                        len(missing_user_index), len(missing_both_index)])/float(len(df_index)) * 100\n",
      "width = 0.4\n",
      "ind = np.array(range(1,5))\n",
      "print ind\n",
      "labels = ['Has all','Missing businesses','Missing users', 'Missing both']\n",
      "\n",
      "barlist = plt.bar(ind, percentages)\n",
      "plt.grid(axis='y', color='white', linestyle='-', lw=1)\n",
      "plt.yticks([10,20,30,40])\n",
      "plt.ylabel('Percentage')\n",
      "plt.title('Missing Data Breakdown')\n",
      "\n",
      "fmt = plt.ScalarFormatter(useOffset=False)\n",
      "plt.gca().xaxis.set_major_formatter(fmt)\n",
      "plt.xlim(0.8, 5.2)\n",
      "plt.xticks(ind+width, labels )\n",
      "remove_border()\n",
      "\n",
      "for x, y in zip(ind, percentages):\n",
      "    plt.annotate((\"%.2f\" + '%%') % y, (x+width, y + 1), ha='center')\n",
      "barlist[1].set_color((0.30588235294117647, 0.6196078431372549, 0.4666666666666667))\n",
      "barlist[2].set_color((0.30588235294117647, 0.6196078431372549, 0.4666666666666667))\n",
      "barlist[3].set_color((0.20588235294117647, 0.5196078431372549, 0.4666666666666667))"
     ],
     "language": "python",
     "metadata": {},
     "outputs": [
      {
       "output_type": "stream",
       "stream": "stdout",
       "text": [
        "[1 2 3 4]\n"
       ]
      },
      {
       "metadata": {},
       "output_type": "display_data",
       "png": "[encoded data removed]",
       "text": [
        "<matplotlib.figure.Figure at 0x10fc57510>"
       ]
      }
     ],
     "prompt_number": 184
    },
    {
     "cell_type": "code",
     "collapsed": false,
     "input": [
      "np.array([4,6]) /2.0"
     ],
     "language": "python",
     "metadata": {},
     "outputs": [
      {
       "metadata": {},
       "output_type": "pyout",
       "prompt_number": 83,
       "text": [
        "array([ 2.,  3.])"
       ]
      }
     ],
     "prompt_number": 83
    },
    {
     "cell_type": "code",
     "collapsed": false,
     "input": [],
     "language": "python",
     "metadata": {},
     "outputs": []
    }
   ],
   "metadata": {}
  }
 ]
}